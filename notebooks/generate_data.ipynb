{
 "cells": [
  {
   "cell_type": "code",
   "execution_count": 1,
   "metadata": {},
   "outputs": [],
   "source": [
    "import pandas as pd\n",
    "import numpy as np\n",
    "\n",
    "# 可視化\n",
    "import matplotlib.pyplot as plt\n",
    "import seaborn as sns"
   ]
  },
  {
   "cell_type": "code",
   "execution_count": 2,
   "metadata": {},
   "outputs": [],
   "source": [
    "# データの読込\n",
    "df_temp = pd.read_csv('../data/temperature.csv')\n",
    "\n",
    "# 前処理\n",
    "df_temp['datetime'] = pd.to_datetime(df_temp['datetime'])\n",
    "df_temp['date'] = df_temp['datetime'].dt.date\n",
    "df_daily_temp = df_temp.groupby('date')['temperature'].median().reset_index()\n",
    "df_temp = pd.merge(df_temp, df_daily_temp, on='date', how='left', suffixes=('', '_daily'))"
   ]
  },
  {
   "cell_type": "code",
   "execution_count": 3,
   "metadata": {},
   "outputs": [],
   "source": [
    "class VendingMachine:\n",
    "  def __init__(self, id, drinks, location):\n",
    "    self.id = id\n",
    "    self.drinks = drinks\n",
    "    self.location = location\n",
    "\n",
    "  def simulate_sales(self, datetime, temp):\n",
    "    # 初期化\n",
    "    self.datetime = datetime\n",
    "    self.count = dict()\n",
    "    self.sales = dict()\n",
    "\n",
    "    # 飲料ごとに売上をシミュレーション\n",
    "    hour = datetime.dt.hour\n",
    "    for drink in self.drinks:\n",
    "      rate = drink.rate[hour] * drink.popularity\n",
    "\n",
    "      # 温度による影響\n",
    "      if drink.warm:\n",
    "        rate = np.exp(np.log(rate) + 0.02*temp)\n",
    "      else:\n",
    "        rate = np.exp(np.log(rate) - 0.02*temp)\n",
    "\n",
    "      # 場所による影響\n",
    "      rate = rate * self.location\n",
    "\n",
    "      # シミュレーション\n",
    "      self.count[drink.id] = np.random.poisson(rate)\n",
    "      self.sales[drink.id] = self.count[drink.id] * drink.price\n",
    "  \n",
    "  def get_sales(self):\n",
    "    if self.sales is None:\n",
    "      raise Exception('Please run simulate_sales() first.')\n",
    "    \n",
    "    dfs = list()\n",
    "    for drink in self.drinks:\n",
    "      df = pd.DataFrame({\n",
    "        'machine_id': self.id,\n",
    "        'product_id': drink.id,\n",
    "        'datetime': self.datetime,\n",
    "        'count': self.count[drink.id],\n",
    "        'sales': self.sales[drink.id]\n",
    "      })\n",
    "      dfs.append(df)\n",
    "      \n",
    "    return pd.concat(dfs, axis=0)\n",
    "\n",
    "class Drink:\n",
    "  def __init__(self, id, price, warm, popularity):\n",
    "    self.id = id                 # 飲料名\n",
    "    self.price = price           # 価格 (円)\n",
    "    self.warm = warm             # 種類 (温かい, 冷たい)\n",
    "    self.popularity = popularity # 人気度 = 1日の売上数の期待値\n",
    "\n",
    "    path = '../data/' + id + '.xlsx'\n",
    "    df = pd.read_excel(path)\n",
    "    self.rate = df['prop'].values"
   ]
  },
  {
   "cell_type": "code",
   "execution_count": 4,
   "metadata": {},
   "outputs": [],
   "source": [
    "df_drinks = pd.read_excel('../data/drink_specs.xlsx')"
   ]
  },
  {
   "cell_type": "code",
   "execution_count": 29,
   "metadata": {},
   "outputs": [],
   "source": [
    "drinks = [\n",
    "  Drink('pid001', 120, False, 50),\n",
    "  Drink('pid002', 100, True, 30),\n",
    "  Drink('pid003', 150, False, 70)\n",
    "]\n",
    "\n",
    "vms = [\n",
    "  VendingMachine('mid001', drinks, 1.0),\n",
    "  VendingMachine('mid002', drinks, 0.8),\n",
    "  VendingMachine('mid003', drinks, 0.6)\n",
    "]"
   ]
  },
  {
   "cell_type": "code",
   "execution_count": 33,
   "metadata": {},
   "outputs": [],
   "source": [
    "t = df_temp['datetime']\n",
    "c = df_temp['temperature_daily']\n",
    "\n",
    "for vm in vms:\n",
    "  vm.simulate_sales(t, c)\n",
    "  df_sales = vm.get_sales()\n",
    "  df_sales.to_csv('../outputs/' + vm.id + '.csv', index=False)"
   ]
  },
  {
   "cell_type": "code",
   "execution_count": 8,
   "metadata": {},
   "outputs": [],
   "source": [
    "# ドリンクマスタ\n",
    "drink_master = pd.DataFrame({\n",
    "  'product_id': ['pid001', 'pid002', 'pid003'],\n",
    "  'product_name': ['soda', 'coffee', 'tea'],\n",
    "  'price': [120, 100, 150],\n",
    "})\n",
    "drink_master.to_csv('../outputs/drink_master.csv', index=False)\n",
    "\n",
    "# 自販機マスタ\n",
    "vm_master = pd.DataFrame({\n",
    "  'machine_id': ['mid001', 'mid002', 'mid003'],\n",
    "  'location': ['Yurakucho', 'Jinbocho', 'Ochanomizu']\n",
    "})\n",
    "vm_master.to_csv('../outputs/vm_master.csv', index=False)"
   ]
  }
 ],
 "metadata": {
  "kernelspec": {
   "display_name": "env",
   "language": "python",
   "name": "python3"
  },
  "language_info": {
   "codemirror_mode": {
    "name": "ipython",
    "version": 3
   },
   "file_extension": ".py",
   "mimetype": "text/x-python",
   "name": "python",
   "nbconvert_exporter": "python",
   "pygments_lexer": "ipython3",
   "version": "3.9.13"
  }
 },
 "nbformat": 4,
 "nbformat_minor": 2
}
